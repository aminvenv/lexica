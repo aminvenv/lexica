{
 "cells": [
  {
   "cell_type": "code",
   "execution_count": 1,
   "id": "0305d8e7-1457-4f55-901e-76d324fe82e2",
   "metadata": {},
   "outputs": [],
   "source": [
    "import pandas as pd\n",
    "from tqdm import tqdm\n",
    "\n",
    "df = pd.read_csv('path/to/original/docs', sep='\\t', names=['doc_id', 'doc_text'])"
   ]
  },
  {
   "cell_type": "code",
   "execution_count": null,
   "id": "aedd5448-e63b-4252-8106-7fd96b04cb30",
   "metadata": {},
   "outputs": [],
   "source": [
    "from transformers import BertTokenizer\n",
    "import configparser\n",
    "\n",
    "config = configparser.ConfigParser()\n",
    "\n",
    "config.read('../config.conf')\n",
    "\n",
    "MODEL_TYPE = config.get('Train', 'MODEL_NAME')\n",
    "MODEL_VOCAB_SIZE = config.getint('Train', 'MODEL_VOCAB_SIZE')\n",
    "print('Model type: {}'.format(MODEL_TYPE))\n",
    "tokenizer = BertTokenizer.from_pretrained(MODEL_TYPE, cache_dir='../cache')"
   ]
  },
  {
   "cell_type": "code",
   "execution_count": 3,
   "id": "d53da378-28df-419f-8164-7ca6fc23fdb3",
   "metadata": {},
   "outputs": [],
   "source": [
    "def df2tokenizeddf(df, tokenizer):\n",
    "    tokenizer_output = []\n",
    "    for row in tqdm(df.itertuples()):\n",
    "        tokenizer_output.append(' '.join(tokenizer.tokenize(row.doc_text)))\n",
    "    return tokenizer_output"
   ]
  },
  {
   "cell_type": "code",
   "execution_count": null,
   "id": "985dd876-bd7d-47a4-b206-0734d1e8bcf4",
   "metadata": {},
   "outputs": [],
   "source": [
    "tok_res = df2tokenizeddf(df, tokenizer)"
   ]
  },
  {
   "cell_type": "code",
   "execution_count": 5,
   "id": "d2e46b5a-f770-4a78-a9e6-d8fda0cdfb76",
   "metadata": {},
   "outputs": [],
   "source": [
    "df['bertext'] = tok_res"
   ]
  },
  {
   "cell_type": "code",
   "execution_count": 6,
   "id": "87f99478-dda0-424a-a5a7-d4e8034862e7",
   "metadata": {},
   "outputs": [],
   "source": [
    "df.to_csv('../data/tknzd_w_scibert_docs.csv', sep='\\t', index=False, header=None)"
   ]
  }
 ],
 "metadata": {
  "kernelspec": {
   "display_name": "Python 3",
   "language": "python",
   "name": "python3"
  },
  "language_info": {
   "codemirror_mode": {
    "name": "ipython",
    "version": 3
   },
   "file_extension": ".py",
   "mimetype": "text/x-python",
   "name": "python",
   "nbconvert_exporter": "python",
   "pygments_lexer": "ipython3",
   "version": "3.7.10"
  }
 },
 "nbformat": 4,
 "nbformat_minor": 5
}
